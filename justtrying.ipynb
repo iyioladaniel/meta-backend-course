{
 "cells": [
  {
   "cell_type": "code",
   "execution_count": null,
   "metadata": {},
   "outputs": [],
   "source": [
    "n = int(input())\n",
    "\n",
    "if n % 2 == 1:\n",
    "    print(\"Weird\")\n",
    "elif n%2==0 and n in range(2,6):\n",
    "    print(\"Not Weird\")\n",
    "elif n%2==0 and n in range(6,21):\n",
    "    print(\"Weird\")\n",
    "elif n%2==0 and n>20:\n",
    "    print(\"Not Weird\")"
   ]
  },
  {
   "cell_type": "code",
   "execution_count": null,
   "metadata": {},
   "outputs": [],
   "source": [
    "a = isinstance(\"aa\",str)\n",
    "\n",
    "print(a) "
   ]
  },
  {
   "cell_type": "code",
   "execution_count": null,
   "metadata": {},
   "outputs": [],
   "source": [
    "def isPalindrome(str):\n",
    "    startIndex = 0\n",
    "    endIndex = len(str) - 1\n",
    "\n",
    "    for x in str:\n",
    "        print(x)\n",
    "        print(str[startIndex],str[endIndex])\n",
    "        if str[startIndex] != str[endIndex]:\n",
    "            return False\n",
    "            break\n",
    "        startIndex += 1\n",
    "        endIndex -= 1\n",
    "\n",
    "        if startIndex == endIndex | (startIndex == endIndex +1):\n",
    "            return True\n",
    "            break\n",
    "\n",
    "        print(str[startIndex],str[endIndex])\n",
    "        print(startIndex,endIndex)\n",
    "    return True"
   ]
  },
  {
   "cell_type": "code",
   "execution_count": 22,
   "metadata": {},
   "outputs": [
    {
     "data": {
      "text/plain": [
       "False"
      ]
     },
     "execution_count": 22,
     "metadata": {},
     "output_type": "execute_result"
    }
   ],
   "source": [
    "isPalindrome('rascecsar')"
   ]
  }
 ],
 "metadata": {
  "kernelspec": {
   "display_name": "Python 3.10.4 64-bit",
   "language": "python",
   "name": "python3"
  },
  "language_info": {
   "codemirror_mode": {
    "name": "ipython",
    "version": 3
   },
   "file_extension": ".py",
   "mimetype": "text/x-python",
   "name": "python",
   "nbconvert_exporter": "python",
   "pygments_lexer": "ipython3",
   "version": "3.10.4"
  },
  "orig_nbformat": 4,
  "vscode": {
   "interpreter": {
    "hash": "369f2c481f4da34e4445cda3fffd2e751bd1c4d706f27375911949ba6bb62e1c"
   }
  }
 },
 "nbformat": 4,
 "nbformat_minor": 2
}
