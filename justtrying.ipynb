{
 "cells": [
  {
   "cell_type": "code",
   "execution_count": null,
   "metadata": {},
   "outputs": [],
   "source": [
    "n = int(input())\n",
    "\n",
    "if n % 2 == 1:\n",
    "    print(\"Weird\")\n",
    "elif n%2==0 and n in range(2,6):\n",
    "    print(\"Not Weird\")\n",
    "elif n%2==0 and n in range(6,21):\n",
    "    print(\"Weird\")\n",
    "elif n%2==0 and n>20:\n",
    "    print(\"Not Weird\")"
   ]
  },
  {
   "cell_type": "code",
   "execution_count": null,
   "metadata": {},
   "outputs": [],
   "source": [
    "a = isinstance(\"aa\",str)\n",
    "\n",
    "print(a) "
   ]
  },
  {
   "cell_type": "code",
   "execution_count": null,
   "metadata": {},
   "outputs": [],
   "source": [
    "def isPalindrome(str):\n",
    "    startIndex = 0\n",
    "    endIndex = len(str) - 1\n",
    "\n",
    "    for x in str:\n",
    "        print(x)\n",
    "        print(str[startIndex],str[endIndex])\n",
    "        if str[startIndex] != str[endIndex]:\n",
    "            return False\n",
    "            break\n",
    "        startIndex += 1\n",
    "        endIndex -= 1\n",
    "\n",
    "        if startIndex == endIndex | (startIndex == endIndex +1):\n",
    "            return True\n",
    "            break\n",
    "\n",
    "        print(str[startIndex],str[endIndex])\n",
    "        print(startIndex,endIndex)\n",
    "    return True"
   ]
  },
  {
   "cell_type": "code",
   "execution_count": 22,
   "metadata": {},
   "outputs": [
    {
     "data": {
      "text/plain": [
       "False"
      ]
     },
     "execution_count": 22,
     "metadata": {},
     "output_type": "execute_result"
    }
   ],
   "source": [
    "isPalindrome('rascecsar')"
   ]
  },
  {
   "cell_type": "code",
   "execution_count": 2,
   "metadata": {},
   "outputs": [
    {
     "ename": "TypeError",
     "evalue": "object of type 'type' has no len()",
     "output_type": "error",
     "traceback": [
      "\u001b[1;31m---------------------------------------------------------------------------\u001b[0m",
      "\u001b[1;31mTypeError\u001b[0m                                 Traceback (most recent call last)",
      "\u001b[1;32mc:\\Users\\daniel.iyiola\\Downloads\\Daniel\\DS\\Meta Back-end\\justtrying.ipynb Cell 5\u001b[0m in \u001b[0;36m<cell line: 6>\u001b[1;34m()\u001b[0m\n\u001b[0;32m      <a href='vscode-notebook-cell:/c%3A/Users/daniel.iyiola/Downloads/Daniel/DS/Meta%20Back-end/justtrying.ipynb#W4sZmlsZQ%3D%3D?line=2'>3</a>\u001b[0m \u001b[39m# Convert the data to a dataframe\u001b[39;00m\n\u001b[0;32m      <a href='vscode-notebook-cell:/c%3A/Users/daniel.iyiola/Downloads/Daniel/DS/Meta%20Back-end/justtrying.ipynb#W4sZmlsZQ%3D%3D?line=3'>4</a>\u001b[0m data \u001b[39m=\u001b[39m [ [ \u001b[39m\"\u001b[39m\u001b[39mNike\u001b[39m\u001b[39m\"\u001b[39m, \u001b[39m\"\u001b[39m\u001b[39m1\u001b[39m\u001b[39m\"\u001b[39m ,\u001b[39m\"\u001b[39m\u001b[39m\"\u001b[39m] , [ \u001b[39m\"\u001b[39m\u001b[39mNike\u001b[39m\u001b[39m\"\u001b[39m, \u001b[39m\"\u001b[39m\u001b[39m\"\u001b[39m ,\u001b[39m\"\u001b[39m\u001b[39m1\u001b[39m\u001b[39m\"\u001b[39m] ,[ \u001b[39m\"\u001b[39m\u001b[39mPuma\u001b[39m\u001b[39m\"\u001b[39m, \u001b[39m\"\u001b[39m\u001b[39m1\u001b[39m\u001b[39m\"\u001b[39m ,\u001b[39m\"\u001b[39m\u001b[39m\"\u001b[39m] , [ \u001b[39m\"\u001b[39m\u001b[39mPuma\u001b[39m\u001b[39m\"\u001b[39m, \u001b[39m\"\u001b[39m\u001b[39m\"\u001b[39m ,\u001b[39m\"\u001b[39m\u001b[39m1\u001b[39m\u001b[39m\"\u001b[39m]]\n\u001b[1;32m----> <a href='vscode-notebook-cell:/c%3A/Users/daniel.iyiola/Downloads/Daniel/DS/Meta%20Back-end/justtrying.ipynb#W4sZmlsZQ%3D%3D?line=5'>6</a>\u001b[0m df \u001b[39m=\u001b[39m pd\u001b[39m.\u001b[39;49mDataFrame(data, columns\u001b[39m=\u001b[39;49m[\u001b[39m\"\u001b[39;49m\u001b[39mBrand\u001b[39;49m\u001b[39m\"\u001b[39;49m, \u001b[39m\"\u001b[39;49m\u001b[39mNumber1\u001b[39;49m\u001b[39m\"\u001b[39;49m, \u001b[39m\"\u001b[39;49m\u001b[39mNumber2\u001b[39;49m\u001b[39m\"\u001b[39;49m], dtype\u001b[39m=\u001b[39;49m{\u001b[39m\"\u001b[39;49m\u001b[39mBrand\u001b[39;49m\u001b[39m\"\u001b[39;49m: \u001b[39mstr\u001b[39;49m, \u001b[39m\"\u001b[39;49m\u001b[39mNumber1\u001b[39;49m\u001b[39m\"\u001b[39;49m: \u001b[39mint\u001b[39;49m, \u001b[39m\"\u001b[39;49m\u001b[39mNumber2\u001b[39;49m\u001b[39m\"\u001b[39;49m: \u001b[39mint\u001b[39;49m})\n\u001b[0;32m      <a href='vscode-notebook-cell:/c%3A/Users/daniel.iyiola/Downloads/Daniel/DS/Meta%20Back-end/justtrying.ipynb#W4sZmlsZQ%3D%3D?line=7'>8</a>\u001b[0m \u001b[39m# Group the data by brand and add up the values in the \"Number1\" and \"Number2\" columns\u001b[39;00m\n\u001b[0;32m      <a href='vscode-notebook-cell:/c%3A/Users/daniel.iyiola/Downloads/Daniel/DS/Meta%20Back-end/justtrying.ipynb#W4sZmlsZQ%3D%3D?line=8'>9</a>\u001b[0m df \u001b[39m=\u001b[39m df\u001b[39m.\u001b[39mgroupby(\u001b[39m\"\u001b[39m\u001b[39mBrand\u001b[39m\u001b[39m\"\u001b[39m)\u001b[39m.\u001b[39msum()\n",
      "File \u001b[1;32mc:\\Python310\\lib\\site-packages\\pandas\\core\\frame.py:599\u001b[0m, in \u001b[0;36mDataFrame.__init__\u001b[1;34m(self, data, index, columns, dtype, copy)\u001b[0m\n\u001b[0;32m    597\u001b[0m     data \u001b[39m=\u001b[39m {}\n\u001b[0;32m    598\u001b[0m \u001b[39mif\u001b[39;00m dtype \u001b[39mis\u001b[39;00m \u001b[39mnot\u001b[39;00m \u001b[39mNone\u001b[39;00m:\n\u001b[1;32m--> 599\u001b[0m     dtype \u001b[39m=\u001b[39m \u001b[39mself\u001b[39;49m\u001b[39m.\u001b[39;49m_validate_dtype(dtype)\n\u001b[0;32m    601\u001b[0m \u001b[39mif\u001b[39;00m \u001b[39misinstance\u001b[39m(data, DataFrame):\n\u001b[0;32m    602\u001b[0m     data \u001b[39m=\u001b[39m data\u001b[39m.\u001b[39m_mgr\n",
      "File \u001b[1;32mc:\\Python310\\lib\\site-packages\\pandas\\core\\generic.py:446\u001b[0m, in \u001b[0;36mNDFrame._validate_dtype\u001b[1;34m(cls, dtype)\u001b[0m\n\u001b[0;32m    444\u001b[0m \u001b[39m\"\"\"validate the passed dtype\"\"\"\u001b[39;00m\n\u001b[0;32m    445\u001b[0m \u001b[39mif\u001b[39;00m dtype \u001b[39mis\u001b[39;00m \u001b[39mnot\u001b[39;00m \u001b[39mNone\u001b[39;00m:\n\u001b[1;32m--> 446\u001b[0m     dtype \u001b[39m=\u001b[39m pandas_dtype(dtype)\n\u001b[0;32m    448\u001b[0m     \u001b[39m# a compound dtype\u001b[39;00m\n\u001b[0;32m    449\u001b[0m     \u001b[39mif\u001b[39;00m dtype\u001b[39m.\u001b[39mkind \u001b[39m==\u001b[39m \u001b[39m\"\u001b[39m\u001b[39mV\u001b[39m\u001b[39m\"\u001b[39m:\n",
      "File \u001b[1;32mc:\\Python310\\lib\\site-packages\\pandas\\core\\dtypes\\common.py:1777\u001b[0m, in \u001b[0;36mpandas_dtype\u001b[1;34m(dtype)\u001b[0m\n\u001b[0;32m   1774\u001b[0m \u001b[39m# try a numpy dtype\u001b[39;00m\n\u001b[0;32m   1775\u001b[0m \u001b[39m# raise a consistent TypeError if failed\u001b[39;00m\n\u001b[0;32m   1776\u001b[0m \u001b[39mtry\u001b[39;00m:\n\u001b[1;32m-> 1777\u001b[0m     npdtype \u001b[39m=\u001b[39m np\u001b[39m.\u001b[39;49mdtype(dtype)\n\u001b[0;32m   1778\u001b[0m \u001b[39mexcept\u001b[39;00m \u001b[39mSyntaxError\u001b[39;00m \u001b[39mas\u001b[39;00m err:\n\u001b[0;32m   1779\u001b[0m     \u001b[39m# np.dtype uses `eval` which can raise SyntaxError\u001b[39;00m\n\u001b[0;32m   1780\u001b[0m     \u001b[39mraise\u001b[39;00m \u001b[39mTypeError\u001b[39;00m(\u001b[39mf\u001b[39m\u001b[39m\"\u001b[39m\u001b[39mdata type \u001b[39m\u001b[39m'\u001b[39m\u001b[39m{\u001b[39;00mdtype\u001b[39m}\u001b[39;00m\u001b[39m'\u001b[39m\u001b[39m not understood\u001b[39m\u001b[39m\"\u001b[39m) \u001b[39mfrom\u001b[39;00m \u001b[39merr\u001b[39;00m\n",
      "File \u001b[1;32mc:\\Python310\\lib\\site-packages\\numpy\\core\\_internal.py:62\u001b[0m, in \u001b[0;36m_usefields\u001b[1;34m(adict, align)\u001b[0m\n\u001b[0;32m     60\u001b[0m     names \u001b[39m=\u001b[39m \u001b[39mNone\u001b[39;00m\n\u001b[0;32m     61\u001b[0m \u001b[39mif\u001b[39;00m names \u001b[39mis\u001b[39;00m \u001b[39mNone\u001b[39;00m:\n\u001b[1;32m---> 62\u001b[0m     names, formats, offsets, titles \u001b[39m=\u001b[39m _makenames_list(adict, align)\n\u001b[0;32m     63\u001b[0m \u001b[39melse\u001b[39;00m:\n\u001b[0;32m     64\u001b[0m     formats \u001b[39m=\u001b[39m []\n",
      "File \u001b[1;32mc:\\Python310\\lib\\site-packages\\numpy\\core\\_internal.py:30\u001b[0m, in \u001b[0;36m_makenames_list\u001b[1;34m(adict, align)\u001b[0m\n\u001b[0;32m     27\u001b[0m allfields \u001b[39m=\u001b[39m []\n\u001b[0;32m     29\u001b[0m \u001b[39mfor\u001b[39;00m fname, obj \u001b[39min\u001b[39;00m adict\u001b[39m.\u001b[39mitems():\n\u001b[1;32m---> 30\u001b[0m     n \u001b[39m=\u001b[39m \u001b[39mlen\u001b[39;49m(obj)\n\u001b[0;32m     31\u001b[0m     \u001b[39mif\u001b[39;00m \u001b[39mnot\u001b[39;00m \u001b[39misinstance\u001b[39m(obj, \u001b[39mtuple\u001b[39m) \u001b[39mor\u001b[39;00m n \u001b[39mnot\u001b[39;00m \u001b[39min\u001b[39;00m (\u001b[39m2\u001b[39m, \u001b[39m3\u001b[39m):\n\u001b[0;32m     32\u001b[0m         \u001b[39mraise\u001b[39;00m \u001b[39mValueError\u001b[39;00m(\u001b[39m\"\u001b[39m\u001b[39mentry not a 2- or 3- tuple\u001b[39m\u001b[39m\"\u001b[39m)\n",
      "\u001b[1;31mTypeError\u001b[0m: object of type 'type' has no len()"
     ]
    }
   ],
   "source": [
    "import pandas as pd\n",
    "\n",
    "# Convert the data to a dataframe\n",
    "data = [ [ \"Nike\", \"1\" ,\"\"] , [ \"Nike\", \"\" ,\"1\"] ,[ \"Puma\", \"1\" ,\"\"] , [ \"Puma\", \"\" ,\"1\"]]\n",
    "\n",
    "df = pd.DataFrame(data, columns=[\"Brand\", \"Number1\", \"Number2\"], dtype={\"Brand\": str, \"Number1\": int, \"Number2\": int})\n",
    "\n",
    "# Group the data by brand and add up the values in the \"Number1\" and \"Number2\" columns\n",
    "df = df.groupby(\"Brand\").sum()\n",
    "\n",
    "# Convert the dataframe to a list of lists\n",
    "output = df.reset_index().values.tolist()\n",
    "\n",
    "print(output)"
   ]
  }
 ],
 "metadata": {
  "kernelspec": {
   "display_name": "Python 3.10.4 64-bit",
   "language": "python",
   "name": "python3"
  },
  "language_info": {
   "codemirror_mode": {
    "name": "ipython",
    "version": 3
   },
   "file_extension": ".py",
   "mimetype": "text/x-python",
   "name": "python",
   "nbconvert_exporter": "python",
   "pygments_lexer": "ipython3",
   "version": "3.10.4 (tags/v3.10.4:9d38120, Mar 23 2022, 23:13:41) [MSC v.1929 64 bit (AMD64)]"
  },
  "orig_nbformat": 4,
  "vscode": {
   "interpreter": {
    "hash": "369f2c481f4da34e4445cda3fffd2e751bd1c4d706f27375911949ba6bb62e1c"
   }
  }
 },
 "nbformat": 4,
 "nbformat_minor": 2
}
